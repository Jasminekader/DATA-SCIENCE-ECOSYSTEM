{
 "cells": [
  {
   "cell_type": "markdown",
   "id": "860c430d-a999-4456-add3-cc0ffdb5f7a4",
   "metadata": {},
   "source": [
    "# Data Science Tools and Ecosystem"
   ]
  },
  {
   "cell_type": "markdown",
   "id": "bd8bf892-26a8-4c70-9d84-1ce962bf419c",
   "metadata": {},
   "source": [
    "In this notebook, Data Science Tools and Ecosystem are summarized."
   ]
  },
  {
   "cell_type": "markdown",
   "id": "e7dd035d-ef64-4da3-95f1-e007678c2a6f",
   "metadata": {},
   "source": [
    "Some of the popular languages that Data Scientists use are:"
   ]
  },
  {
   "cell_type": "markdown",
   "id": "1aa9d158-e956-4736-b94e-35b7e0cff5a7",
   "metadata": {},
   "source": [
    "1. Python\n",
    "2. R\n",
    "3. JAVA\n",
    "4. Keras\n",
    "5. SQL\n"
   ]
  },
  {
   "cell_type": "markdown",
   "id": "3d0cef05-6e78-4980-adc7-20cb887d838d",
   "metadata": {},
   "source": [
    "Some of the commonly used libraries used by Data Scientists include:"
   ]
  },
  {
   "cell_type": "markdown",
   "id": "809b4dfa-017c-4f04-9491-bc8ff8d999d4",
   "metadata": {},
   "source": [
    "1. Numpy\n",
    "2. SciPy\n",
    "3. Pandas\n",
    "4. PyTorch\n",
    "5. SciKit-Learn"
   ]
  },
  {
   "cell_type": "markdown",
   "id": "8d41a203-3859-461e-9cea-dc5094c75962",
   "metadata": {},
   "source": [
    "# Data Science Tools Table"
   ]
  },
  {
   "cell_type": "markdown",
   "id": "28fd3996-660b-438e-92bc-7836f42a31b2",
   "metadata": {},
   "source": [
    "|Data Science Tools|\n",
    "|------------------|\n",
    "|Apache Spark|\n",
    "|Julia|\n",
    "|Jupyter Notebook|"
   ]
  },
  {
   "cell_type": "markdown",
   "id": "d7e5a6fe-785b-4ee0-849f-d7c981f811cd",
   "metadata": {},
   "source": [
    "### Below are a few examples of evaluating arithmetic expressions in Python."
   ]
  },
  {
   "cell_type": "markdown",
   "id": "375fba3f-3a47-4392-a707-e5952f66ad8d",
   "metadata": {},
   "source": [
    "This a simple arithmetic expression to mutiply then add integers"
   ]
  },
  {
   "cell_type": "code",
   "execution_count": 1,
   "id": "1068b6a5-649a-461a-95cc-45789be1813a",
   "metadata": {},
   "outputs": [
    {
     "data": {
      "text/plain": [
       "17"
      ]
     },
     "execution_count": 1,
     "metadata": {},
     "output_type": "execute_result"
    }
   ],
   "source": [
    "(3*4)+5"
   ]
  },
  {
   "cell_type": "markdown",
   "id": "6c1c7830-0244-4a9e-8017-d8bf40a4ec6f",
   "metadata": {},
   "source": [
    "This will convert 200 minutes to hours by diving by 60."
   ]
  },
  {
   "cell_type": "code",
   "execution_count": 5,
   "id": "cd5b2154-6512-414d-b933-973fcca398e9",
   "metadata": {},
   "outputs": [
    {
     "name": "stdin",
     "output_type": "stream",
     "text": [
      "minutes= 200\n"
     ]
    },
    {
     "name": "stdout",
     "output_type": "stream",
     "text": [
      "hours= 3\n"
     ]
    }
   ],
   "source": [
    "minutes=int(input(\"minutes=\"))\n",
    "hours= minutes//60\n",
    "print(\"hours=\",hours)"
   ]
  },
  {
   "cell_type": "code",
   "execution_count": null,
   "id": "54c6fc84-eff7-4663-a429-de594dc5542f",
   "metadata": {},
   "outputs": [],
   "source": []
  },
  {
   "cell_type": "code",
   "execution_count": null,
   "id": "027a286f-ae6e-4f70-a0b4-e2e890ee8a2f",
   "metadata": {},
   "outputs": [],
   "source": []
  }
 ],
 "metadata": {
  "kernelspec": {
   "display_name": "Python 3 (ipykernel)",
   "language": "python",
   "name": "python3"
  },
  "language_info": {
   "codemirror_mode": {
    "name": "ipython",
    "version": 3
   },
   "file_extension": ".py",
   "mimetype": "text/x-python",
   "name": "python",
   "nbconvert_exporter": "python",
   "pygments_lexer": "ipython3",
   "version": "3.11.5"
  }
 },
 "nbformat": 4,
 "nbformat_minor": 5
}
